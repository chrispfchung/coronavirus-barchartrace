{
 "cells": [
  {
   "cell_type": "markdown",
   "metadata": {},
   "source": [
    "# Coronavirus Dataset Analysis"
   ]
  },
  {
   "cell_type": "markdown",
   "metadata": {},
   "source": [
    "Reference: <br>\n",
    "Updated COVID-19 Dataset: https://www.kaggle.com/sudalairajkumar/novel-corona-virus-2019-dataset"
   ]
  },
  {
   "cell_type": "code",
   "execution_count": 1,
   "metadata": {},
   "outputs": [],
   "source": [
    "import pandas as pd\n",
    "import matplotlib.pyplot as plt\n",
    "import matplotlib.ticker as ticker\n",
    "import matplotlib.animation as animation\n",
    "from IPython.display import HTML # display media control overlay of bar chart race\n",
    "from tqdm import tqdm # show progress bar during loops\n",
    "%matplotlib inline"
   ]
  },
  {
   "cell_type": "code",
   "execution_count": 2,
   "metadata": {},
   "outputs": [
    {
     "name": "stdout",
     "output_type": "stream",
     "text": [
      "<class 'pandas.core.frame.DataFrame'>\n",
      "RangeIndex: 12249 entries, 0 to 12248\n",
      "Data columns (total 8 columns):\n",
      " #   Column           Non-Null Count  Dtype  \n",
      "---  ------           --------------  -----  \n",
      " 0   SNo              12249 non-null  int64  \n",
      " 1   ObservationDate  12249 non-null  object \n",
      " 2   Province/State   6407 non-null   object \n",
      " 3   Country/Region   12249 non-null  object \n",
      " 4   Last Update      12249 non-null  object \n",
      " 5   Confirmed        12249 non-null  float64\n",
      " 6   Deaths           12249 non-null  float64\n",
      " 7   Recovered        12249 non-null  float64\n",
      "dtypes: float64(3), int64(1), object(4)\n",
      "memory usage: 765.7+ KB\n",
      "None\n"
     ]
    },
    {
     "data": {
      "text/html": [
       "<div>\n",
       "<style scoped>\n",
       "    .dataframe tbody tr th:only-of-type {\n",
       "        vertical-align: middle;\n",
       "    }\n",
       "\n",
       "    .dataframe tbody tr th {\n",
       "        vertical-align: top;\n",
       "    }\n",
       "\n",
       "    .dataframe thead th {\n",
       "        text-align: right;\n",
       "    }\n",
       "</style>\n",
       "<table border=\"1\" class=\"dataframe\">\n",
       "  <thead>\n",
       "    <tr style=\"text-align: right;\">\n",
       "      <th></th>\n",
       "      <th>SNo</th>\n",
       "      <th>ObservationDate</th>\n",
       "      <th>Province/State</th>\n",
       "      <th>Country/Region</th>\n",
       "      <th>Last Update</th>\n",
       "      <th>Confirmed</th>\n",
       "      <th>Deaths</th>\n",
       "      <th>Recovered</th>\n",
       "    </tr>\n",
       "  </thead>\n",
       "  <tbody>\n",
       "    <tr>\n",
       "      <th>0</th>\n",
       "      <td>1</td>\n",
       "      <td>01/22/2020</td>\n",
       "      <td>Anhui</td>\n",
       "      <td>Mainland China</td>\n",
       "      <td>1/22/2020 17:00</td>\n",
       "      <td>1.0</td>\n",
       "      <td>0.0</td>\n",
       "      <td>0.0</td>\n",
       "    </tr>\n",
       "    <tr>\n",
       "      <th>1</th>\n",
       "      <td>2</td>\n",
       "      <td>01/22/2020</td>\n",
       "      <td>Beijing</td>\n",
       "      <td>Mainland China</td>\n",
       "      <td>1/22/2020 17:00</td>\n",
       "      <td>14.0</td>\n",
       "      <td>0.0</td>\n",
       "      <td>0.0</td>\n",
       "    </tr>\n",
       "    <tr>\n",
       "      <th>2</th>\n",
       "      <td>3</td>\n",
       "      <td>01/22/2020</td>\n",
       "      <td>Chongqing</td>\n",
       "      <td>Mainland China</td>\n",
       "      <td>1/22/2020 17:00</td>\n",
       "      <td>6.0</td>\n",
       "      <td>0.0</td>\n",
       "      <td>0.0</td>\n",
       "    </tr>\n",
       "  </tbody>\n",
       "</table>\n",
       "</div>"
      ],
      "text/plain": [
       "   SNo ObservationDate Province/State  Country/Region      Last Update  \\\n",
       "0    1      01/22/2020          Anhui  Mainland China  1/22/2020 17:00   \n",
       "1    2      01/22/2020        Beijing  Mainland China  1/22/2020 17:00   \n",
       "2    3      01/22/2020      Chongqing  Mainland China  1/22/2020 17:00   \n",
       "\n",
       "   Confirmed  Deaths  Recovered  \n",
       "0        1.0     0.0        0.0  \n",
       "1       14.0     0.0        0.0  \n",
       "2        6.0     0.0        0.0  "
      ]
     },
     "execution_count": 2,
     "metadata": {},
     "output_type": "execute_result"
    }
   ],
   "source": [
    "# load in dataset\n",
    "# this is a good dataset that broke down the time stamps into M/D/Y\n",
    "# It also has 11341 data points for all countries affected by COVID-19\n",
    "# there are not as many states as countries so there are null values\n",
    "df = pd.read_csv('covid_19_data_to_4_5.csv')\n",
    "print(df.info()) \n",
    "df.head(3)"
   ]
  },
  {
   "cell_type": "markdown",
   "metadata": {},
   "source": [
    "## Clean Data First"
   ]
  },
  {
   "cell_type": "markdown",
   "metadata": {},
   "source": [
    "#### I like to lower case and add underscores to my column names for easier access\n"
   ]
  },
  {
   "cell_type": "code",
   "execution_count": 3,
   "metadata": {},
   "outputs": [
    {
     "data": {
      "text/plain": [
       "Index(['sno', 'observationdate', 'province/state', 'country/region',\n",
       "       'last_update', 'confirmed', 'deaths', 'recovered'],\n",
       "      dtype='object')"
      ]
     },
     "execution_count": 3,
     "metadata": {},
     "output_type": "execute_result"
    }
   ],
   "source": [
    "df.columns = [x.lower() for x in df.columns]\n",
    "df.columns = [x.replace(' ', '_') for x in df.columns]\n",
    "df.columns"
   ]
  },
  {
   "cell_type": "markdown",
   "metadata": {},
   "source": [
    "#### turn float to integer values as there cannot be a \"4.5\" confirmed sick person. This data must be discrete."
   ]
  },
  {
   "cell_type": "code",
   "execution_count": 4,
   "metadata": {},
   "outputs": [
    {
     "data": {
      "text/plain": [
       "0     1\n",
       "1    14\n",
       "2     6\n",
       "Name: confirmed, dtype: int64"
      ]
     },
     "execution_count": 4,
     "metadata": {},
     "output_type": "execute_result"
    }
   ],
   "source": [
    "df['confirmed'] = df['confirmed'].apply(lambda x: int(x))\n",
    "\n",
    "# do the same for deaths and recovered\n",
    "df['deaths'] = df['deaths'].apply(lambda x: int(x))\n",
    "df['recovered'] = df['recovered'].apply(lambda x: int(x))\n",
    "\n",
    "# show what results looks like\n",
    "df['confirmed'].head(3)"
   ]
  },
  {
   "cell_type": "markdown",
   "metadata": {},
   "source": [
    "#### change 'observationdate' column into datetime datatype"
   ]
  },
  {
   "cell_type": "code",
   "execution_count": 5,
   "metadata": {},
   "outputs": [
    {
     "name": "stdout",
     "output_type": "stream",
     "text": [
      "2020-03-29\n",
      "Result: 2020-01-22, <class 'datetime.date'>\n"
     ]
    }
   ],
   "source": [
    "from datetime import date\n",
    "from datetime import datetime\n",
    "\n",
    "# this code turns string '03/23/2020' to 2020-0323, which is in datetime format\n",
    "print(datetime.strptime(df['observationdate'][10000], \"%m/%d/%Y\").date())\n",
    "\n",
    "# make every string date into datetime format using .apply method\n",
    "df['observationdate'] = df['observationdate'].apply(\n",
    "    lambda x: datetime.strptime(x, \"%m/%d/%Y\").date())\n",
    "print(f\"Result: {df['observationdate'][0]}, {type(df['observationdate'][0])}\")"
   ]
  },
  {
   "cell_type": "markdown",
   "metadata": {},
   "source": [
    "#### remove any country's leading whitespace"
   ]
  },
  {
   "cell_type": "code",
   "execution_count": 6,
   "metadata": {},
   "outputs": [],
   "source": [
    "df['country/region'] = df['country/region'].apply(lambda x: x.lstrip())"
   ]
  },
  {
   "cell_type": "code",
   "execution_count": 7,
   "metadata": {},
   "outputs": [],
   "source": [
    "# convert datetime for interpretable string format in plot\n",
    "\n",
    "dates = df[(df['country/region'] == 'Others') & (df['observationdate'] < date(2020,2,27))]['observationdate']\n",
    "dates = list(dates.apply(lambda x: x.strftime(\"%b %d\")))"
   ]
  },
  {
   "cell_type": "code",
   "execution_count": 8,
   "metadata": {},
   "outputs": [
    {
     "data": {
      "image/png": "[encoded data removed]",
      "text/plain": [
       "<Figure size 864x648 with 1 Axes>"
      ]
     },
     "metadata": {
      "needs_background": "light"
     },
     "output_type": "display_data"
    }
   ],
   "source": [
    "x = dates\n",
    "y = df[(df['country/region'] == 'Others') & (df['observationdate'] < date(2020,2,27))]['confirmed']\n",
    "\n",
    "plt.figure(figsize=(12,9))\n",
    "\n",
    "# plt.plot(x, y)\n",
    "plt.plot(x, y, marker='o', markersize= 10)\n",
    "\n",
    "# plt.plot(x, y, marker='X', markersize= 10, color='green',mfc='red')\n",
    "plt.ylabel('Cases')\n",
    "plt.xlabel(' ')\n",
    "plt.xticks(np.arange(0, len(dates), step=2),rotation=50)\n",
    "plt.yticks(np.arange(0,820, step=100))\n",
    "plt.annotate('Total Cases over 18 Days\\n      (Feb 7 to Feb 25)', \n",
    "             xycoords='axes fraction', xy=[.6,.15], fontsize=14, weight=600, color='blue')\n",
    "\n",
    "for x,y in zip(x[::2],y[::2]):\n",
    "\n",
    "    label = \"{:.0f}\".format(y)\n",
    "    \n",
    "    plt.annotate(label, (x,y),ha='center', rotation=45, xytext=(0,10), textcoords='offset points',fontsize=15)\n",
    "\n",
    "# plt.xticks(np.arange(0,len(dates)),labels=dates)\n",
    "plt.title('Daily Growth of Diamond Princess Cruise Ship COVID-19 Cases', fontsize=22)\n",
    "sns.set_context('poster')\n",
    "\n",
    "# plt.savefig('diamondprincesscases.png')\n",
    "plt.show(); # set_context allows you to choose your plot style in a practical way"
   ]
  },
  {
   "cell_type": "code",
   "execution_count": 9,
   "metadata": {},
   "outputs": [],
   "source": [
    "# dropping countries and providing reasons\n",
    "df = df[(df['country/region'] != 'Others') & (df['country/region'] != 'Diamond Princess')] # cruise ship not country\n",
    "df= df[(df['country/region'] != 'MS Zaandam')] # another cruiseship recently confirmed, will also drop this\n",
    "df = df[(df['country/region'] != 'Kosovo')] # complicated political region, pycountry unable to provide code\n",
    "df = df[(df['country/region'] != 'Holy See')] # unable to find proper coding\n",
    "df = df[(df['country/region'] != 'Vatican City')] # unable to find country name same as (holy see)\n",
    "df = df[(df['country/region'] != 'Timor-Leste')] # code unable to access this continent code\n",
    "df = df[(df['country/region'] != 'East Timor')] # (same place as Timor-Leste)\n",
    "df = df[(df['country/region'] != 'Channel Islands')] # only place a part of great britain\n",
    "df = df[(df['country/region'] != 'Western Sahara')]"
   ]
  },
  {
   "cell_type": "markdown",
   "metadata": {},
   "source": [
    "### Calculate number of days that our data covers"
   ]
  },
  {
   "cell_type": "code",
   "execution_count": 10,
   "metadata": {},
   "outputs": [
    {
     "data": {
      "text/plain": [
       "74"
      ]
     },
     "execution_count": 10,
     "metadata": {},
     "output_type": "execute_result"
    }
   ],
   "source": [
    "# datetime(2019,12,31) - datetime(2019,12,31) This works!\n",
    "days_since = abs((df['observationdate'].sort_values(ascending=True).head(1).item() - \n",
    "                  df['observationdate'].sort_values(ascending=False).head(1).item()).days)\n",
    "days_since"
   ]
  },
  {
   "cell_type": "code",
   "execution_count": 11,
   "metadata": {},
   "outputs": [
    {
     "name": "stdout",
     "output_type": "stream",
     "text": [
      "2020-01-22\n"
     ]
    },
    {
     "data": {
      "text/plain": [
       "datetime.date(2020, 1, 22)"
      ]
     },
     "execution_count": 11,
     "metadata": {},
     "output_type": "execute_result"
    }
   ],
   "source": [
    "# create a date time range that covers our data from beginning to last day of reported cases\n",
    "\n",
    "beginning_date = df['observationdate'].sort_values(ascending=True).head(1).item()\n",
    "print(beginning_date)\n",
    "# create our range of dates\n",
    "date_list = pd.date_range(beginning_date, periods=days_since+1).to_list() #days_since+1 to include last day\n",
    "# snippet of what the timestamps look like\n",
    "date_list[0].date()"
   ]
  },
  {
   "cell_type": "markdown",
   "metadata": {},
   "source": [
    "## Questions I'm Asking"
   ]
  },
  {
   "cell_type": "markdown",
   "metadata": {},
   "source": [
    "### How were the Chinese provinces affected?"
   ]
  },
  {
   "cell_type": "code",
   "execution_count": 12,
   "metadata": {},
   "outputs": [],
   "source": [
    "# df[(df['country/region'] == 'China') & (df['observationdate'] == date(2020,4,5))].groupby('province/state').mean().drop('sno',axis=1).sort_values(by='confirmed', ascending=False)"
   ]
  },
  {
   "cell_type": "markdown",
   "metadata": {},
   "source": [
    "### How were the US states affected?"
   ]
  },
  {
   "cell_type": "code",
   "execution_count": 13,
   "metadata": {},
   "outputs": [],
   "source": [
    "# df[(df['country/region'] == 'United States of America') & (df['observationdate'] == date(2020,4,5))].groupby('province/state').mean().drop('sno',axis=1).sort_values(by='confirmed', ascending=False)"
   ]
  },
  {
   "cell_type": "markdown",
   "metadata": {},
   "source": [
    "### What were the least affected states?"
   ]
  },
  {
   "cell_type": "code",
   "execution_count": 14,
   "metadata": {},
   "outputs": [],
   "source": [
    "# df[(df['country/region'] == 'United States of America') & (df['observationdate'] == date(2020,4,5))].groupby('province/state').mean().drop('sno',axis=1).sort_values(by='confirmed')[6:] #keep states"
   ]
  },
  {
   "cell_type": "markdown",
   "metadata": {},
   "source": [
    "### What were Korea's numbers over time?"
   ]
  },
  {
   "cell_type": "code",
   "execution_count": 19,
   "metadata": {},
   "outputs": [],
   "source": [
    "x = df[df['country/region'] == 'South Korea'].groupby('observationdate')['confirmed'].sum().reset_index()['observationdate']\n",
    "y = df[df['country/region'] == 'South Korea'].groupby('observationdate')['confirmed'].sum().reset_index()['confirmed']\n",
    "\n",
    "# plt.plot(x,y)"
   ]
  },
  {
   "cell_type": "markdown",
   "metadata": {},
   "source": [
    "### What is flattening the curve?"
   ]
  },
  {
   "cell_type": "code",
   "execution_count": 38,
   "metadata": {},
   "outputs": [
    {
     "data": {
      "text/plain": [
       "(  observationdate  country/region  confirmed\n",
       " 0      2020-01-22  Mainland China        547\n",
       " 1      2020-02-20     South Korea        104\n",
       " 2      2020-02-21           Japan        105\n",
       " 3      2020-02-23           Italy        155\n",
       " 4      2020-02-26            Iran        139\n",
       " 5      2020-02-29          France        100\n",
       " 6      2020-02-29       Singapore        102\n",
       " 7      2020-03-01         Germany        130\n",
       " 8      2020-03-02              US        101\n",
       " 9      2020-03-02           Spain        120,\n",
       "    observationdate country/region  confirmed\n",
       " 10      2020-03-02      Hong Kong        100\n",
       " 11      2020-03-05    Switzerland        114\n",
       " 12      2020-03-05             UK        115\n",
       " 13      2020-03-06         Sweden        101\n",
       " 14      2020-03-06    Netherlands        128\n",
       " 15      2020-03-06         Norway        108\n",
       " 16      2020-03-06        Belgium        109\n",
       " 17      2020-03-08        Austria        104\n",
       " 18      2020-03-09       Malaysia        117\n",
       " 19      2020-03-10        Denmark        262\n",
       " 20      2020-03-10        Bahrain        110)"
      ]
     },
     "execution_count": 38,
     "metadata": {},
     "output_type": "execute_result"
    }
   ],
   "source": [
    "# group all by country/region\n",
    "data=df.groupby(['observationdate','country/region']).agg({'confirmed':'sum'}).reset_index()\n",
    "\n",
    "# return dataframe with only 100 or more confirmed\n",
    "data = data[data['confirmed'] >= 100]\n",
    "\n",
    "#return the earliest date of each country where the cases are equal to 100\n",
    "data = data.sort_values('observationdate')\n",
    "\n",
    "#dataframe is sorted by earliest time with 100 or more confirmed confirmed\n",
    "data = data.drop_duplicates(subset='country/region',keep='first').reset_index(drop=True)\n",
    "\n",
    "# top 10 countries that had 100 confirmed the earliest\n",
    "first_ten = data.head(10)\n",
    "\n",
    "# the next 10 countries that reached 100 confirmed\n",
    "second_ten = data.iloc[10:21]\n",
    "\n",
    "first_ten, second_ten"
   ]
  },
  {
   "cell_type": "code",
   "execution_count": 57,
   "metadata": {},
   "outputs": [
    {
     "data": {
      "text/html": [
       "<div>\n",
       "<style scoped>\n",
       "    .dataframe tbody tr th:only-of-type {\n",
       "        vertical-align: middle;\n",
       "    }\n",
       "\n",
       "    .dataframe tbody tr th {\n",
       "        vertical-align: top;\n",
       "    }\n",
       "\n",
       "    .dataframe thead th {\n",
       "        text-align: right;\n",
       "    }\n",
       "</style>\n",
       "<table border=\"1\" class=\"dataframe\">\n",
       "  <thead>\n",
       "    <tr style=\"text-align: right;\">\n",
       "      <th></th>\n",
       "      <th>observationdate</th>\n",
       "      <th>country/region</th>\n",
       "      <th>confirmed</th>\n",
       "    </tr>\n",
       "  </thead>\n",
       "  <tbody>\n",
       "    <tr>\n",
       "      <th>0</th>\n",
       "      <td>2020-01-22</td>\n",
       "      <td>Mainland China</td>\n",
       "      <td>547</td>\n",
       "    </tr>\n",
       "    <tr>\n",
       "      <th>1</th>\n",
       "      <td>2020-02-20</td>\n",
       "      <td>South Korea</td>\n",
       "      <td>104</td>\n",
       "    </tr>\n",
       "    <tr>\n",
       "      <th>2</th>\n",
       "      <td>2020-02-21</td>\n",
       "      <td>Japan</td>\n",
       "      <td>105</td>\n",
       "    </tr>\n",
       "    <tr>\n",
       "      <th>3</th>\n",
       "      <td>2020-02-23</td>\n",
       "      <td>Italy</td>\n",
       "      <td>155</td>\n",
       "    </tr>\n",
       "    <tr>\n",
       "      <th>4</th>\n",
       "      <td>2020-02-26</td>\n",
       "      <td>Iran</td>\n",
       "      <td>139</td>\n",
       "    </tr>\n",
       "    <tr>\n",
       "      <th>...</th>\n",
       "      <td>...</td>\n",
       "      <td>...</td>\n",
       "      <td>...</td>\n",
       "    </tr>\n",
       "    <tr>\n",
       "      <th>111</th>\n",
       "      <td>2020-04-03</td>\n",
       "      <td>Niger</td>\n",
       "      <td>120</td>\n",
       "    </tr>\n",
       "    <tr>\n",
       "      <th>112</th>\n",
       "      <td>2020-04-04</td>\n",
       "      <td>Rwanda</td>\n",
       "      <td>102</td>\n",
       "    </tr>\n",
       "    <tr>\n",
       "      <th>113</th>\n",
       "      <td>2020-04-04</td>\n",
       "      <td>Trinidad and Tobago</td>\n",
       "      <td>103</td>\n",
       "    </tr>\n",
       "    <tr>\n",
       "      <th>114</th>\n",
       "      <td>2020-04-04</td>\n",
       "      <td>Guinea</td>\n",
       "      <td>111</td>\n",
       "    </tr>\n",
       "    <tr>\n",
       "      <th>115</th>\n",
       "      <td>2020-04-05</td>\n",
       "      <td>Paraguay</td>\n",
       "      <td>104</td>\n",
       "    </tr>\n",
       "  </tbody>\n",
       "</table>\n",
       "<p>116 rows × 3 columns</p>\n",
       "</div>"
      ],
      "text/plain": [
       "    observationdate       country/region  confirmed\n",
       "0        2020-01-22       Mainland China        547\n",
       "1        2020-02-20          South Korea        104\n",
       "2        2020-02-21                Japan        105\n",
       "3        2020-02-23                Italy        155\n",
       "4        2020-02-26                 Iran        139\n",
       "..              ...                  ...        ...\n",
       "111      2020-04-03                Niger        120\n",
       "112      2020-04-04               Rwanda        102\n",
       "113      2020-04-04  Trinidad and Tobago        103\n",
       "114      2020-04-04               Guinea        111\n",
       "115      2020-04-05             Paraguay        104\n",
       "\n",
       "[116 rows x 3 columns]"
      ]
     },
     "execution_count": 57,
     "metadata": {},
     "output_type": "execute_result"
    }
   ],
   "source": [
    "data"
   ]
  },
  {
   "cell_type": "code",
   "execution_count": 70,
   "metadata": {},
   "outputs": [
    {
     "data": {
      "text/html": [
       "<div>\n",
       "<style scoped>\n",
       "    .dataframe tbody tr th:only-of-type {\n",
       "        vertical-align: middle;\n",
       "    }\n",
       "\n",
       "    .dataframe tbody tr th {\n",
       "        vertical-align: top;\n",
       "    }\n",
       "\n",
       "    .dataframe thead th {\n",
       "        text-align: right;\n",
       "    }\n",
       "</style>\n",
       "<table border=\"1\" class=\"dataframe\">\n",
       "  <thead>\n",
       "    <tr style=\"text-align: right;\">\n",
       "      <th></th>\n",
       "      <th>sno</th>\n",
       "      <th>observationdate</th>\n",
       "      <th>province/state</th>\n",
       "      <th>country/region</th>\n",
       "      <th>last_update</th>\n",
       "      <th>confirmed</th>\n",
       "      <th>deaths</th>\n",
       "      <th>recovered</th>\n",
       "      <th>observationdate_first_100</th>\n",
       "      <th>confirmed_first_100</th>\n",
       "    </tr>\n",
       "  </thead>\n",
       "  <tbody>\n",
       "    <tr>\n",
       "      <th>0</th>\n",
       "      <td>1</td>\n",
       "      <td>2020-01-22</td>\n",
       "      <td>Anhui</td>\n",
       "      <td>Mainland China</td>\n",
       "      <td>1/22/2020 17:00</td>\n",
       "      <td>1</td>\n",
       "      <td>0</td>\n",
       "      <td>0</td>\n",
       "      <td>2020-01-22</td>\n",
       "      <td>547</td>\n",
       "    </tr>\n",
       "    <tr>\n",
       "      <th>1</th>\n",
       "      <td>2</td>\n",
       "      <td>2020-01-22</td>\n",
       "      <td>Beijing</td>\n",
       "      <td>Mainland China</td>\n",
       "      <td>1/22/2020 17:00</td>\n",
       "      <td>14</td>\n",
       "      <td>0</td>\n",
       "      <td>0</td>\n",
       "      <td>2020-01-22</td>\n",
       "      <td>547</td>\n",
       "    </tr>\n",
       "    <tr>\n",
       "      <th>2</th>\n",
       "      <td>3</td>\n",
       "      <td>2020-01-22</td>\n",
       "      <td>Chongqing</td>\n",
       "      <td>Mainland China</td>\n",
       "      <td>1/22/2020 17:00</td>\n",
       "      <td>6</td>\n",
       "      <td>0</td>\n",
       "      <td>0</td>\n",
       "      <td>2020-01-22</td>\n",
       "      <td>547</td>\n",
       "    </tr>\n",
       "    <tr>\n",
       "      <th>3</th>\n",
       "      <td>4</td>\n",
       "      <td>2020-01-22</td>\n",
       "      <td>Fujian</td>\n",
       "      <td>Mainland China</td>\n",
       "      <td>1/22/2020 17:00</td>\n",
       "      <td>1</td>\n",
       "      <td>0</td>\n",
       "      <td>0</td>\n",
       "      <td>2020-01-22</td>\n",
       "      <td>547</td>\n",
       "    </tr>\n",
       "    <tr>\n",
       "      <th>4</th>\n",
       "      <td>5</td>\n",
       "      <td>2020-01-22</td>\n",
       "      <td>Gansu</td>\n",
       "      <td>Mainland China</td>\n",
       "      <td>1/22/2020 17:00</td>\n",
       "      <td>0</td>\n",
       "      <td>0</td>\n",
       "      <td>0</td>\n",
       "      <td>2020-01-22</td>\n",
       "      <td>547</td>\n",
       "    </tr>\n",
       "    <tr>\n",
       "      <th>...</th>\n",
       "      <td>...</td>\n",
       "      <td>...</td>\n",
       "      <td>...</td>\n",
       "      <td>...</td>\n",
       "      <td>...</td>\n",
       "      <td>...</td>\n",
       "      <td>...</td>\n",
       "      <td>...</td>\n",
       "      <td>...</td>\n",
       "      <td>...</td>\n",
       "    </tr>\n",
       "    <tr>\n",
       "      <th>10639</th>\n",
       "      <td>10845</td>\n",
       "      <td>2020-04-01</td>\n",
       "      <td>NaN</td>\n",
       "      <td>West Bank and Gaza</td>\n",
       "      <td>2020-04-01 22:04:58</td>\n",
       "      <td>134</td>\n",
       "      <td>1</td>\n",
       "      <td>18</td>\n",
       "      <td>2020-03-29</td>\n",
       "      <td>109</td>\n",
       "    </tr>\n",
       "    <tr>\n",
       "      <th>10640</th>\n",
       "      <td>11159</td>\n",
       "      <td>2020-04-02</td>\n",
       "      <td>NaN</td>\n",
       "      <td>West Bank and Gaza</td>\n",
       "      <td>2020-04-02 23:32:01</td>\n",
       "      <td>161</td>\n",
       "      <td>1</td>\n",
       "      <td>18</td>\n",
       "      <td>2020-03-29</td>\n",
       "      <td>109</td>\n",
       "    </tr>\n",
       "    <tr>\n",
       "      <th>10641</th>\n",
       "      <td>11474</td>\n",
       "      <td>2020-04-03</td>\n",
       "      <td>NaN</td>\n",
       "      <td>West Bank and Gaza</td>\n",
       "      <td>2020-04-03 22:52:45</td>\n",
       "      <td>194</td>\n",
       "      <td>1</td>\n",
       "      <td>21</td>\n",
       "      <td>2020-03-29</td>\n",
       "      <td>109</td>\n",
       "    </tr>\n",
       "    <tr>\n",
       "      <th>10642</th>\n",
       "      <td>11789</td>\n",
       "      <td>2020-04-04</td>\n",
       "      <td>NaN</td>\n",
       "      <td>West Bank and Gaza</td>\n",
       "      <td>2020-04-04 23:41:02</td>\n",
       "      <td>217</td>\n",
       "      <td>1</td>\n",
       "      <td>21</td>\n",
       "      <td>2020-03-29</td>\n",
       "      <td>109</td>\n",
       "    </tr>\n",
       "    <tr>\n",
       "      <th>10643</th>\n",
       "      <td>12106</td>\n",
       "      <td>2020-04-05</td>\n",
       "      <td>NaN</td>\n",
       "      <td>West Bank and Gaza</td>\n",
       "      <td>2020-04-05 23:13:44</td>\n",
       "      <td>237</td>\n",
       "      <td>1</td>\n",
       "      <td>25</td>\n",
       "      <td>2020-03-29</td>\n",
       "      <td>109</td>\n",
       "    </tr>\n",
       "  </tbody>\n",
       "</table>\n",
       "<p>10644 rows × 10 columns</p>\n",
       "</div>"
      ],
      "text/plain": [
       "         sno observationdate province/state      country/region  \\\n",
       "0          1      2020-01-22          Anhui      Mainland China   \n",
       "1          2      2020-01-22        Beijing      Mainland China   \n",
       "2          3      2020-01-22      Chongqing      Mainland China   \n",
       "3          4      2020-01-22         Fujian      Mainland China   \n",
       "4          5      2020-01-22          Gansu      Mainland China   \n",
       "...      ...             ...            ...                 ...   \n",
       "10639  10845      2020-04-01            NaN  West Bank and Gaza   \n",
       "10640  11159      2020-04-02            NaN  West Bank and Gaza   \n",
       "10641  11474      2020-04-03            NaN  West Bank and Gaza   \n",
       "10642  11789      2020-04-04            NaN  West Bank and Gaza   \n",
       "10643  12106      2020-04-05            NaN  West Bank and Gaza   \n",
       "\n",
       "               last_update  confirmed  deaths  recovered  \\\n",
       "0          1/22/2020 17:00          1       0          0   \n",
       "1          1/22/2020 17:00         14       0          0   \n",
       "2          1/22/2020 17:00          6       0          0   \n",
       "3          1/22/2020 17:00          1       0          0   \n",
       "4          1/22/2020 17:00          0       0          0   \n",
       "...                    ...        ...     ...        ...   \n",
       "10639  2020-04-01 22:04:58        134       1         18   \n",
       "10640  2020-04-02 23:32:01        161       1         18   \n",
       "10641  2020-04-03 22:52:45        194       1         21   \n",
       "10642  2020-04-04 23:41:02        217       1         21   \n",
       "10643  2020-04-05 23:13:44        237       1         25   \n",
       "\n",
       "      observationdate_first_100  confirmed_first_100  \n",
       "0                    2020-01-22                  547  \n",
       "1                    2020-01-22                  547  \n",
       "2                    2020-01-22                  547  \n",
       "3                    2020-01-22                  547  \n",
       "4                    2020-01-22                  547  \n",
       "...                         ...                  ...  \n",
       "10639                2020-03-29                  109  \n",
       "10640                2020-03-29                  109  \n",
       "10641                2020-03-29                  109  \n",
       "10642                2020-03-29                  109  \n",
       "10643                2020-03-29                  109  \n",
       "\n",
       "[10644 rows x 10 columns]"
      ]
     },
     "execution_count": 70,
     "metadata": {},
     "output_type": "execute_result"
    }
   ],
   "source": [
    "# df['first_100_date'] = df['country/region'].append(data['observationdate'])\n",
    "# you want each row to start with its first date\n",
    "\n",
    "\n",
    "dff = df.merge(data, on='country/region', suffixes=('','_first_100'))\n",
    "# df_analysis.rename(columns={'observationdate_x' : 'first_100_date', 'observationdate_y' = d\n",
    "dff"
   ]
  },
  {
   "cell_type": "code",
   "execution_count": 91,
   "metadata": {},
   "outputs": [
    {
     "data": {
      "image/png": "[encoded data removed]",
      "text/plain": [
       "<Figure size 1080x576 with 1 Axes>"
      ]
     },
     "metadata": {
      "needs_background": "light"
     },
     "output_type": "display_data"
    }
   ],
   "source": [
    "fig, ax = plt.subplots(figsize=(15,8))\n",
    "\n",
    "# plot a line for each country on the figure\n",
    "# plot China\n",
    "\n",
    "x = np.arange(1,61)\n",
    "y = np.arange(100,10000, step=165)\n",
    "\n",
    "\n",
    "plt.plot(dff[dff['country/region']=='Mainland China']['observationdate_first_100'],dff[dff['country/region']=='Mainland China']['confirmed'])\n",
    "plt.plot(dff[dff['country/region']=='United States of America']['observationdate_first_100'],)\n",
    "plt.show()\n",
    "\n",
    "# dff[dff['country/region']=='Mainland China']"
   ]
  },
  {
   "cell_type": "code",
   "execution_count": null,
   "metadata": {},
   "outputs": [],
   "source": [
    "# group all by country/region\n",
    "data=df.groupby(['observationdate','country/region']).agg({'confirmed':'sum'}).reset_index()\n",
    "df.groupby(['observationdate','country/region']).agg({'confirmed':'sum'}).reset_index()\n",
    "\n",
    "# return dataframe with only 100 or more deaths\n",
    "data = data[data['confirmed'] >= 100]\n",
    "\n",
    "#return the earliest date of each country where the cases are equal to 100\n",
    "data = data.sort_values('observationdate')\n",
    "#dataframe is sorted by earliest time 100 or more deaths confirmed\n",
    "data = data.drop_duplicates(subset='country/region',keep='first').reset_index(drop=True)\n",
    "\n",
    "data1 = data.loc[0:40]\n",
    "data2 = data.loc[41:81]\n",
    "data3 = data.loc[82:]"
   ]
  }
 ],
 "metadata": {
  "kernelspec": {
   "display_name": "Python 3",
   "language": "python",
   "name": "python3"
  },
  "language_info": {
   "codemirror_mode": {
    "name": "ipython",
    "version": 3
   },
   "file_extension": ".py",
   "mimetype": "text/x-python",
   "name": "python",
   "nbconvert_exporter": "python",
   "pygments_lexer": "ipython3",
   "version": "3.6.10"
  }
 },
 "nbformat": 4,
 "nbformat_minor": 4
}
