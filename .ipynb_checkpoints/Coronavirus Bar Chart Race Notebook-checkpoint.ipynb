{
 "cells": [
  {
   "cell_type": "markdown",
   "metadata": {},
   "source": [
    "# Coronavirus Bar Chart Race"
   ]
  },
  {
   "cell_type": "markdown",
   "metadata": {},
   "source": [
    "References: <br>\n",
    "Original Bar Chart Race Tutorial: https://towardsdatascience.com/bar-chart-race-in-python-with-matplotlib-8e687a5c8a41<br>\n",
    "Updated COVID-19 Dataset: https://www.kaggle.com/sudalairajkumar/novel-corona-virus-2019-dataset"
   ]
  },
  {
   "cell_type": "code",
   "execution_count": null,
   "metadata": {},
   "outputs": [],
   "source": [
    "import pandas as pd\n",
    "import matplotlib.pyplot as plt\n",
    "import matplotlib.ticker as ticker\n",
    "import matplotlib.animation as animation\n",
    "from IPython.display import HTML # display media control overlay of bar chart race\n",
    "from tqdm import tqdm # show progress bar during loops\n",
    "%matplotlib inline"
   ]
  },
  {
   "cell_type": "code",
   "execution_count": null,
   "metadata": {},
   "outputs": [],
   "source": [
    "# load in dataset\n",
    "# this is a good dataset that broke down the time stamps into M/D/Y\n",
    "# It also has 11341 data points for all countries affected by COVID-19\n",
    "# there are not as many states as countries so there are null values\n",
    "df = pd.read_csv('covid_19_data_to_4_5.csv')\n",
    "print(df.info()) \n",
    "df.head(3)"
   ]
  },
  {
   "cell_type": "markdown",
   "metadata": {},
   "source": [
    "## Clean Data First"
   ]
  },
  {
   "cell_type": "markdown",
   "metadata": {},
   "source": [
    "#### I like to lower case and add underscores to my column names for easier access\n"
   ]
  },
  {
   "cell_type": "code",
   "execution_count": null,
   "metadata": {},
   "outputs": [],
   "source": [
    "df.columns = [x.lower() for x in df.columns]\n",
    "df.columns = [x.replace(' ', '_') for x in df.columns]\n",
    "df.columns"
   ]
  },
  {
   "cell_type": "markdown",
   "metadata": {},
   "source": [
    "#### turn float to integer values as there cannot be a \"4.5\" confirmed sick person. This data must be discrete."
   ]
  },
  {
   "cell_type": "code",
   "execution_count": null,
   "metadata": {},
   "outputs": [],
   "source": [
    "df['confirmed'] = df['confirmed'].apply(lambda x: int(x))\n",
    "\n",
    "# do the same for deaths and recovered\n",
    "df['deaths'] = df['deaths'].apply(lambda x: int(x))\n",
    "df['recovered'] = df['recovered'].apply(lambda x: int(x))\n",
    "\n",
    "# show what results looks like\n",
    "df['confirmed'].head(3)"
   ]
  },
  {
   "cell_type": "markdown",
   "metadata": {},
   "source": [
    "#### change 'observationdate' column into datetime datatype"
   ]
  },
  {
   "cell_type": "code",
   "execution_count": null,
   "metadata": {},
   "outputs": [],
   "source": [
    "from datetime import date\n",
    "from datetime import datetime\n",
    "\n",
    "# this code turns string '03/23/2020' to 2020-0323, which is in datetime format\n",
    "print(datetime.strptime(df['observationdate'][10000], \"%m/%d/%Y\").date())\n",
    "\n",
    "# make every string date into datetime format using .apply method\n",
    "df['observationdate'] = df['observationdate'].apply(\n",
    "    lambda x: datetime.strptime(x, \"%m/%d/%Y\").date())\n",
    "print(f\"Result: {df['observationdate'][0]}, {type(df['observationdate'][0])}\")"
   ]
  },
  {
   "cell_type": "markdown",
   "metadata": {},
   "source": [
    "#### remove any country's leading whitespace"
   ]
  },
  {
   "cell_type": "code",
   "execution_count": null,
   "metadata": {},
   "outputs": [],
   "source": [
    "df['country/region'] = df['country/region'].apply(lambda x: x.lstrip())"
   ]
  },
  {
   "cell_type": "markdown",
   "metadata": {},
   "source": [
    "#### Change the Name of Some Countries: <br>\n",
    "Later on in my code I assign a color to each country according to their continent. I input country names into a python library called pycountry that outputs its continent. However, some of the countries are not recognized by the way our data has put it. An example is below. It should read \"Democratic Republic of the Congo\" rather than \"Congo (Kinshasa)\" <br>\n",
    "I change them all now. <br>\n",
    "<br>\n",
    "I used this wikipedia page to help me find corresponding country/country codes\n",
    "<br>\n",
    "Source: https://en.wikipedia.org/wiki/ISO_3166-1_alpha-2"
   ]
  },
  {
   "cell_type": "markdown",
   "metadata": {},
   "source": [
    "For example, the error says: <b>KeyError:</b> \"Invalid Country Name: 'Congo (Kinshasa)'\""
   ]
  },
  {
   "cell_type": "code",
   "execution_count": null,
   "metadata": {},
   "outputs": [],
   "source": [
    "df.loc[(df['country/region'] == 'Mainland China'), 'country/region'] = 'China'\n",
    "\n",
    "df.loc[(df['country/region'] == 'Congo (Kinshasa)'), 'country/region'] = 'Democratic Republic of the Congo'\n",
    "df.loc[(df['country/region'] == 'Congo (Brazzaville)'), 'country/region'] = 'Republic of the Congo'\n",
    "\n",
    "df.loc[(df['country/region'] == 'Burma'), 'country/region'] = 'Myanmar'\n",
    "\n",
    "df.loc[(df['country/region'] == 'occupied Palestinian territory'), 'country/region'] = 'Palestine'\n",
    "df.loc[(df['country/region'] == 'West Bank and Gaza'), 'country/region'] = 'Palestine'\n",
    "\n",
    "df.loc[(df['country/region'] == 'Republic of Ireland'), 'country/region'] = 'Ireland'\n",
    "\n",
    "df.loc[(df['country/region'] == 'Saint Barthelemy'), 'country/region'] = 'Saint Barthélemy'\n",
    "\n",
    "df.loc[(df['country/region'] == 'Bahamas, The'), 'country/region'] = 'Bahamas'\n",
    "df.loc[(df['country/region'] == 'The Bahamas'), 'country/region'] = 'Bahamas'\n",
    "\n",
    "df.loc[(df['country/region'] == 'Gambia, The'), 'country/region'] = 'Gambia'\n",
    "df.loc[(df['country/region'] == 'The Gambia'), 'country/region'] = 'Gambia'\n",
    "\n",
    "df.loc[(df['country/region'] == \"('St. Martin',)\"), 'country/region'] = 'Saint Martin'\n",
    "\n",
    "df.loc[(df['country/region'] == \"Curacao\"), 'country/region'] = 'Curaçao'\n",
    "\n",
    "df.loc[(df['country/region'] == \"North Ireland\"), 'country/region'] = 'United Kingdom'\n",
    "\n",
    "df.loc[(df['country/region'] == 'Reunion'), 'country/region'] = 'Réunion'\n",
    "\n",
    "df.loc[(df['country/region'] == 'UK'), 'country/region'] = 'United Kingdom'\n",
    "\n",
    "df.loc[(df['country/region'] == 'US'), 'country/region'] = 'United States of America'\n",
    "\n",
    "\n",
    "# Trying to figure out how pycountry will accept the \"Holy See\" Let me know if you know!\n",
    "# df.loc[(df['country/region'] == 'Holy See'), 'country/region'] = 'Vatican City State (Holy See)'\n",
    "# df.loc[(df['country/region'] == 'Holy See'), 'country/region'] = 'Vatican City State'\n",
    "# df.loc[(df['country/region'] == 'Vatican City'), 'country/region'] = 'The Vatican'\n",
    "# df.loc[(df['country/region'] == 'Holy See'), 'country/region'] = 'Holy See (Vatican City State)'\n",
    "# df.loc[(df['country/region'] == 'Holy See'), 'country/region'] = 'State of the Vatican City'\n",
    "# df.loc[(df['country/region'] == 'Holy See'), 'country/region'] = 'See of Rome'\n",
    "# df.loc[(df['country/region'] == 'Holy See'), 'country/region'] = 'Vatican'\n",
    "\n",
    "# Same for Kosovo\n",
    "# df.loc[(df['country/region'] == 'Kosovo'), 'country/region'] = 'Republic of Kosovo'\n",
    "\n",
    "\n",
    "# an example of how the changes look\n",
    "df[df['country/region'] == 'United States of America'].iloc[0:3]"
   ]
  },
  {
   "cell_type": "markdown",
   "metadata": {},
   "source": [
    "### Visualize and then Remove 'Others' Column (Diamond Princess cruise ship data)\n",
    "#### The country/region called 'Others' is the diamond princess cruise ship that was affected by the coronavirus. I'm not including it in the bar chart race since it is not a country. However,  I dig into this data before I remove it."
   ]
  },
  {
   "cell_type": "code",
   "execution_count": null,
   "metadata": {},
   "outputs": [],
   "source": [
    "#upon looking at this data, the cruise ship confirms cases on 2-7-2020\n",
    "# because the confirmed numbers taper off at 2-26, I will plot up to that date.\n",
    "df[(df['country/region'] == 'Others')].head()\n",
    "\n",
    "#snippet of our cruise ship data\n",
    "df[(df['country/region'] == 'Others') & (df['observationdate'] < date(2020,2,27))].tail()"
   ]
  },
  {
   "cell_type": "code",
   "execution_count": null,
   "metadata": {},
   "outputs": [],
   "source": [
    "# convert datetime for interpretable string format in plot\n",
    "\n",
    "dates = df[(df['country/region'] == 'Others') & (df['observationdate'] < date(2020,2,27))]['observationdate']\n",
    "dates = list(dates.apply(lambda x: x.strftime(\"%b %d\")))"
   ]
  },
  {
   "cell_type": "markdown",
   "metadata": {},
   "source": [
    "### Line Plot of  Diamond Princess infection rate"
   ]
  },
  {
   "cell_type": "code",
   "execution_count": null,
   "metadata": {},
   "outputs": [],
   "source": [
    "x = dates\n",
    "y = df[(df['country/region'] == 'Others') & (df['observationdate'] < date(2020,2,27))]['confirmed']\n",
    "\n",
    "plt.figure(figsize=(12,9))\n",
    "\n",
    "# plt.plot(x, y)\n",
    "plt.plot(x, y, marker='o', markersize= 10)\n",
    "\n",
    "# plt.plot(x, y, marker='X', markersize= 10, color='green',mfc='red')\n",
    "plt.ylabel('Cases')\n",
    "plt.xlabel(' ')\n",
    "plt.xticks(np.arange(0, len(dates), step=2),rotation=50)\n",
    "plt.yticks(np.arange(0,820, step=100))\n",
    "plt.annotate('Total Cases over 18 Days\\n      (Feb 7 to Feb 25)', \n",
    "             xycoords='axes fraction', xy=[.6,.15], fontsize=14, weight=600, color='blue')\n",
    "\n",
    "for x,y in zip(x[::2],y[::2]):\n",
    "\n",
    "    label = \"{:.0f}\".format(y)\n",
    "    \n",
    "    plt.annotate(label, (x,y),ha='center', rotation=45, xytext=(0,10), textcoords='offset points',fontsize=15)\n",
    "\n",
    "# plt.xticks(np.arange(0,len(dates)),labels=dates)\n",
    "plt.title('Daily Growth of Diamond Princess Cruise Ship COVID-19 Cases', fontsize=22)\n",
    "sns.set_context('poster')\n",
    "\n",
    "# plt.savefig('diamondprincesscases.png')\n",
    "plt.show(); # set_context allows you to choose your plot style in a practical way"
   ]
  },
  {
   "cell_type": "markdown",
   "metadata": {},
   "source": [
    "#### dropping countries and providing reasons"
   ]
  },
  {
   "cell_type": "code",
   "execution_count": null,
   "metadata": {},
   "outputs": [],
   "source": [
    "df = df[(df['country/region'] != 'Others') & (df['country/region'] != 'Diamond Princess')] # cruise ship not country\n",
    "df= df[(df['country/region'] != 'MS Zaandam')] # another cruiseship recently confirmed, will also drop this\n",
    "df = df[(df['country/region'] != 'Kosovo')] # complicated political region, pycountry unable to provide code\n",
    "df = df[(df['country/region'] != 'Holy See')] # unable to find proper coding\n",
    "df = df[(df['country/region'] != 'Vatican City')] # unable to find country name same as (holy see)\n",
    "df = df[(df['country/region'] != 'Timor-Leste')] # code unable to access this continent code\n",
    "df = df[(df['country/region'] != 'East Timor')] # (same place as Timor-Leste)\n",
    "df = df[(df['country/region'] != 'Channel Islands')] # only place a part of great britain\n",
    "df = df[(df['country/region'] != 'Western Sahara')]"
   ]
  },
  {
   "cell_type": "markdown",
   "metadata": {},
   "source": [
    "## Organizing the Race Piece by Piece"
   ]
  },
  {
   "cell_type": "markdown",
   "metadata": {},
   "source": [
    "### 1. Getting the Top 10 Most Cases by Country for the First Day (getting the first frame of the race)"
   ]
  },
  {
   "cell_type": "code",
   "execution_count": null,
   "metadata": {},
   "outputs": [],
   "source": [
    "# set starting date equal to beginning date\n",
    "beginning_date = df['observationdate'].sort_values(ascending=True).head(1).item()\n",
    "\n",
    "# Bar chart race starting from the first day\n",
    "# group by country and sum them, getting the top 10\n",
    "# reset_index so that country/region becomes its own column\n",
    "dff = (df[df['observationdate'].eq(beginning_date)]\n",
    "       .groupby('country/region').sum()\n",
    "       .head(10)).sort_values(by='confirmed',ascending=False).reset_index() \n",
    "\n",
    "dff # top 10 most confirmed cases by country"
   ]
  },
  {
   "cell_type": "markdown",
   "metadata": {},
   "source": [
    "### 2. Creating the horizontal bar chart (setting the stage)"
   ]
  },
  {
   "cell_type": "code",
   "execution_count": null,
   "metadata": {},
   "outputs": [],
   "source": [
    "# plot out horizontal bar chart (the previous step visualized on horizontal bar chart)\n",
    "fig, ax = plt.subplots(figsize=(8,5))\n",
    "ax.barh(dff['country/region'], dff['confirmed']); #plug in your x and y, y being the horse you want to race"
   ]
  },
  {
   "cell_type": "markdown",
   "metadata": {},
   "source": [
    "## Now, let's give each country a color by its continent (coloring the bars)"
   ]
  },
  {
   "cell_type": "markdown",
   "metadata": {},
   "source": [
    "### 3. Get list of all countries"
   ]
  },
  {
   "cell_type": "code",
   "execution_count": null,
   "metadata": {},
   "outputs": [],
   "source": [
    "top_countries = df.groupby(['country/region'])['confirmed'].sum().sort_values(ascending=False).reset_index()['country/region'].unique()\n",
    "top_countries = list(top_countries)\n",
    "top_countries[0:3] #essentially a list of all countries"
   ]
  },
  {
   "cell_type": "code",
   "execution_count": null,
   "metadata": {},
   "outputs": [],
   "source": [
    "from pycountry_convert import country_alpha2_to_continent_code, country_name_to_country_alpha2\n",
    "\n",
    "continents = {\n",
    "    'NA': 'North America',\n",
    "    'SA': 'South America', \n",
    "    'AS': 'Asia',\n",
    "    'OC': 'Australia',\n",
    "    'AF': 'Africa',\n",
    "    'EU': 'Europe'\n",
    "}\n",
    "\n",
    "# use our 'top_countries' variable as our country list\n",
    "## what our code below is doing\n",
    "#it takes a country like 'China' you have right now and turns it into a a country code 'CN' then into a \n",
    "#continent code 'AS', and finally matches it with the continent dictionary to give you the full name, 'Asia'\n",
    "top_continents = [continents[country_alpha2_to_continent_code(country_name_to_country_alpha2(country))]\n",
    "                  for country in top_countries]"
   ]
  },
  {
   "cell_type": "markdown",
   "metadata": {},
   "source": [
    "### 4. Assign Hexcode Colors to Each Country Based on Continent"
   ]
  },
  {
   "cell_type": "markdown",
   "metadata": {},
   "source": [
    "#### I created a function to generate hexcode colors based on a tutorial. You can use your own hexcodes for the continents or randomly generate them. I used a combination of both. Whichever method you choose, you need to zip the continent to a color."
   ]
  },
  {
   "cell_type": "markdown",
   "metadata": {},
   "source": [
    "##### Steps: \n",
    "1. Get 6 hexcode colors, one for each continent \n",
    "2. Assign a color to each continent \n",
    "3. Assign a continent to each country."
   ]
  },
  {
   "cell_type": "code",
   "execution_count": null,
   "metadata": {},
   "outputs": [],
   "source": [
    "# Random Hexcode Generator\n",
    "\n",
    "# generate random hexcodes (source: https://www.codespeedy.com/create-random-hex-color-code-in-python/)\n",
    "import random\n",
    "random_number = random.randint(0,16777215)\n",
    "hex_number = str(hex(random_number))\n",
    "hex_number ='#'+ hex_number[2:]\n",
    "\n",
    "# my function generates the amount of colors you need \n",
    "def generate_hexcode(quantity):\n",
    "    colors = []\n",
    "    for i in range(0,quantity+1):\n",
    "        random_number = random.randint(10000000,16777215) #minimum 8 characters\n",
    "        hex_number = str(hex(random_number)) # turn our random number into a hex code\n",
    "        hex_number ='#'+ hex_number[2:] # create our hashtag hexcode removing first two elements\n",
    "        colors.append(hex_number)\n",
    "    return colors\n",
    "\n",
    "colors = generate_hexcode(len(continents))\n",
    "colors[0:6]"
   ]
  },
  {
   "cell_type": "code",
   "execution_count": null,
   "metadata": {},
   "outputs": [],
   "source": [
    "# once generated, assign color to each continent\n",
    "colors = dict(zip([x for x in continents.values()], colors))\n",
    "colors"
   ]
  },
  {
   "cell_type": "code",
   "execution_count": null,
   "metadata": {},
   "outputs": [],
   "source": [
    "# These are the colors that I want to continue using (combo of randomly generated & chosen myself)\n",
    "colors = {'North America': '#FF81C0',\n",
    " 'South America': '#1FA774',\n",
    " 'Asia': '#41FDFE',\n",
    " 'Australia': '#90E4C1',\n",
    " 'Africa': '#FFD1DF',\n",
    " 'Europe': '#FCF679'}"
   ]
  },
  {
   "cell_type": "code",
   "execution_count": null,
   "metadata": {},
   "outputs": [],
   "source": [
    "# assign country to its continent, creates dictionary e.g. {'China': 'Asia','Italy': 'Europe'}\n",
    "top_country_continents = dict(zip(top_countries, top_continents))"
   ]
  },
  {
   "cell_type": "markdown",
   "metadata": {},
   "source": [
    "#### to get each country to have its continent color,  matplotlib gets our colors looking at our top_country_continents key, finds the continent , and matches the continent to our colors dictionary to get its color. It will do this for every country/region"
   ]
  },
  {
   "cell_type": "code",
   "execution_count": null,
   "metadata": {},
   "outputs": [],
   "source": [
    "# What we want (Should be 10 hexcodes)\n",
    "# 7 countries here because the first day of our dff dataset only has 7 confirmed countries)\n",
    "#example broken down below\n",
    "[colors[top_country_continents[x]] for x in dff['country/region']]"
   ]
  },
  {
   "cell_type": "code",
   "execution_count": null,
   "metadata": {},
   "outputs": [],
   "source": [
    "# first step\n",
    "top_country_continents['China']"
   ]
  },
  {
   "cell_type": "code",
   "execution_count": null,
   "metadata": {},
   "outputs": [],
   "source": [
    "# second step\n",
    "colors['Asia']"
   ]
  },
  {
   "cell_type": "code",
   "execution_count": null,
   "metadata": {},
   "outputs": [],
   "source": [
    "# third step altogether\n",
    "colors[top_country_continents['China']]"
   ]
  },
  {
   "cell_type": "markdown",
   "metadata": {},
   "source": [
    "### 5. Show a frame of what our race will look like"
   ]
  },
  {
   "cell_type": "code",
   "execution_count": null,
   "metadata": {},
   "outputs": [],
   "source": [
    "fig, ax = plt.subplots(figsize=(15, 8))\n",
    "# pass colors values to `color=`\n",
    "# iterate over the values to plot labels and values (China, Asia, 547)\n",
    "ax.barh(dff['country/region'], dff['confirmed'], color=[colors[top_country_continents[x]] \n",
    "                                                        for x in dff['country/region']])\n",
    "\n",
    "\n",
    "for i, (confirmed, country) in enumerate(zip(dff['confirmed'], dff['country/region'])):\n",
    "    ax.text(confirmed, i,     confirmed,           ha='left')   # 38194.2: value\n",
    "\n",
    "\n",
    "\n",
    "    # Add the large date on to plot\n",
    "    ax.text(1, 0.4, beginning_date, transform=ax.transAxes, size=46, ha='right')\n",
    "    countries = []\n",
    "    countries.append(dff['country/region'])\n",
    "\n",
    "    \n",
    "#Legend    \n",
    "import matplotlib.patches as mpatches\n",
    "import matplotlib.pyplot as plt\n",
    "\n",
    "#Create legend. If more continents are present, you can add them here\n",
    "north_america = mpatches.Patch(color='#FF81C0', label='North America')\n",
    "asia = mpatches.Patch(color='#41FDFE', label='Asia')\n",
    "europe = mpatches.Patch(color='#FCF679', label='Europe')\n",
    "\n",
    "##comment out countries if they don't appear in race (displaying all as example)\n",
    "south_america = mpatches.Patch(color='#1FA774', label='South America')\n",
    "australia = mpatches.Patch(color='#90E4C1', label='Australia')\n",
    "africa = mpatches.Patch(color='#FFD1DF', label='Africa')\n",
    "\n",
    "\n",
    "\n",
    "plt.legend(handles=[asia, europe, north_america, south_america, australia, africa]);\n"
   ]
  },
  {
   "cell_type": "markdown",
   "metadata": {},
   "source": [
    "### 6. Calculate number of days that our data covers"
   ]
  },
  {
   "cell_type": "code",
   "execution_count": null,
   "metadata": {},
   "outputs": [],
   "source": [
    "# datetime(2019,12,31) - datetime(2019,12,31) This works!\n",
    "days_since = abs((df['observationdate'].sort_values(ascending=True).head(1).item() - \n",
    "                  df['observationdate'].sort_values(ascending=False).head(1).item()).days)\n",
    "days_since"
   ]
  },
  {
   "cell_type": "code",
   "execution_count": null,
   "metadata": {},
   "outputs": [],
   "source": [
    "# create a date time range that covers our data from beginning to last day of reported cases\n",
    "\n",
    "beginning_date = df['observationdate'].sort_values(ascending=True).head(1).item()\n",
    "print(beginning_date)\n",
    "# create our range of dates\n",
    "date_list = pd.date_range(beginning_date, periods=days_since+1).to_list() #days_since+1 to include last day\n",
    "# snippet of what the timestamps look like\n",
    "date_list[0].date()"
   ]
  },
  {
   "cell_type": "markdown",
   "metadata": {},
   "source": [
    "## 7. Final Function"
   ]
  },
  {
   "cell_type": "code",
   "execution_count": null,
   "metadata": {},
   "outputs": [],
   "source": [
    "fig, ax = plt.subplots(figsize=(15, 8)) # initiate the figure and set size\n",
    "first_day = date(2020,1,22) #this is for our days elapsed code shown in function below\n",
    "\n",
    "def draw_barchart(date):\n",
    "    dff = df[df['observationdate'].eq(date)]\\\n",
    "    .groupby(['country/region','observationdate'])\\\n",
    "    .sum().reset_index().sort_values(by='confirmed',ascending=False).head(10) # our top 10 \n",
    "    \n",
    "    dff = dff[::-1] #flip chart so top country is also at the top of plot\n",
    "    ax.clear() # you need this to refresh the axes for the next date's statistics\n",
    "    ax.barh(dff['country/region'], dff['confirmed'], \\\n",
    "            color=[colors[top_country_continents[x]] for x in dff['country/region']])\n",
    "    \n",
    "\n",
    "    # create loop of all our texts\n",
    "    for i, (confirmed, country) in enumerate(zip(dff['confirmed'], dff['country/region'])):\n",
    "        \n",
    "        # Country name\n",
    "        ax.text(confirmed, i,     country,           size=15, \\\n",
    "                weight=600, ha='right', va='bottom', fontfamily= 'fantasy') # positioned under y\n",
    "        \n",
    "        #Continent Name\n",
    "        # \"i-.25\" lowers position of 'continent' under 'country'\n",
    "        ax.text(confirmed, i-.25, top_country_continents[country], \\\n",
    "                size=13, color='#444444', ha='right', va='baseline',) #  \n",
    "        \n",
    "        # Number of Cases\n",
    "        ax.text(confirmed, i,     f'{confirmed:,.0f}',  size=14, \\\n",
    "                ha='left',  va='center') \n",
    "        \n",
    "    #toggle big \"current date\" on white space & format \n",
    "    #transaxes = sets coordination to [0,0] bottom left, [1,1] top right\n",
    "    ax.text(1, 0.4, date.strftime('%b %d'), transform=ax.transAxes,  \n",
    "            color='#777777', size=46, ha='right', \n",
    "            weight=800) \n",
    "    \n",
    "    #toggle big \"days elapsed\" on white space\n",
    "    days_elapsed = abs(datetime.date(date)-first_day)\n",
    "    \n",
    "    ax.text(1, 0.3, f'Days Elapsed: {abs(days_elapsed.days)+1}', transform=ax.transAxes, \n",
    "            color='#777777', size=14, ha='right', \n",
    "            weight=800)\n",
    "            \n",
    "    #sets \"Cases\" word in top corner\n",
    "    ax.text(0.01, 1.06, 'Cases', transform=ax.transAxes, size=14, color='#000000') \n",
    "    \n",
    "    # set our legend\n",
    "    north_america = mpatches.Patch(color='#FF81C0', label='North America')\n",
    "    asia = mpatches.Patch(color='#41FDFE', label='Asia')\n",
    "    europe = mpatches.Patch(color='#FCF679', label='Europe')\n",
    "    ax.legend(handles=[asia, europe, north_america],loc = 4, bbox_to_anchor=[1,0.06],fontsize=14, title='Legend*',\n",
    "             title_fontsize=13)\n",
    "    \n",
    "    #annotate to acknowledge other continents not shown on graph\n",
    "    #axes fraction = [0,0] bottom left, [1,1] top right\n",
    "    ax.annotate('*Other continents have not appeared in top 10 ranking', xy=[0.6,0.025], \n",
    "                 xycoords='axes fraction', annotation_clip=True, ha='left', fontsize=13, weight=550) \n",
    "    \n",
    "    \n",
    "    #set number of decimal points for x-axis values\n",
    "    ax.xaxis.set_major_formatter(ticker.StrMethodFormatter('{x:,.0f}')) \n",
    "    ax.xaxis.set_ticks_position('top') # sets tick positions on top of plot\n",
    "    ax.tick_params(axis='x', colors='#777777', labelsize=20) # adjust size of x labels (ticks)\n",
    "    ax.tick_params(axis='y', colors='#000000', labelsize=15) # adjust size of y labels (ticks)\n",
    "    ax.set_yticks([]) # passing an empty list removes y ticks, our y ticks will be our countries\n",
    "    ax.margins(0, 0.01) #sets margin, the space alloted for the bars\n",
    "    ax.grid(which='major', axis='x', linestyle='-') # sets vertical lines as place markers through race\n",
    "    \n",
    "    ax.set_axisbelow(True) # sets gridlines under bars, false will put lines over the bars\n",
    "\n",
    "    \n",
    "    ax.text(0, 1.10, 'Total Confirmed Cases of Coronavirus by Country Over Time',\n",
    "            transform=ax.transAxes, size=24, weight=600, ha='left') #weight bolds our text\n",
    "\n",
    "    \n",
    "    ax.text(1, -.05, 'by @chrispfchung', transform=ax.transAxes, ha='right',\n",
    "            color='#777777', bbox=dict(facecolor='white', alpha=0.8, edgecolor='white'))\n",
    "    plt.box(False)\n",
    "#     plt.savefig('lowestrace.png')            \n",
    "    \n",
    "    \n",
    "draw_barchart(date_list[64]) #example of what the first frame would look like"
   ]
  },
  {
   "cell_type": "markdown",
   "metadata": {},
   "source": [
    "From matplotlib documentation: \"The use of transform=ax.transAxes throughout the code indicates that the coordinates are given relative to the axes bounding box, with 0,0 being the lower left of the axes and 1,1 the upper right.\""
   ]
  },
  {
   "cell_type": "markdown",
   "metadata": {},
   "source": [
    "### Run our Bar Chart Race"
   ]
  },
  {
   "cell_type": "code",
   "execution_count": null,
   "metadata": {},
   "outputs": [],
   "source": [
    "## import matplotlib.animation as our animator\n",
    "from IPython.display import HTML\n",
    "fig, ax = plt.subplots(figsize=(15, 8))\n",
    "animator = animation.FuncAnimation(fig, draw_barchart, \n",
    "                                   frames=date_list)\n",
    "\n",
    "HTML(animator.to_jshtml())  # play in notebook inline views\n",
    "# or use animator.to_html5_video() or animator.save()"
   ]
  },
  {
   "cell_type": "code",
   "execution_count": null,
   "metadata": {
    "scrolled": true
   },
   "outputs": [],
   "source": [
    "#if you're on a mac - \n",
    "#first install homebrew\n",
    "#then type brew install imagemagick\n",
    "#create imagemagick writer object\n",
    "\n",
    "\n",
    "writer = animation.ImageMagickFileWriter()\n",
    "# animator.save('lowestrace.gif', writer=writer)"
   ]
  }
 ],
 "metadata": {
  "kernelspec": {
   "display_name": "Python 3",
   "language": "python",
   "name": "python3"
  },
  "language_info": {
   "codemirror_mode": {
    "name": "ipython",
    "version": 3
   },
   "file_extension": ".py",
   "mimetype": "text/x-python",
   "name": "python",
   "nbconvert_exporter": "python",
   "pygments_lexer": "ipython3",
   "version": "3.6.10"
  }
 },
 "nbformat": 4,
 "nbformat_minor": 4
}
